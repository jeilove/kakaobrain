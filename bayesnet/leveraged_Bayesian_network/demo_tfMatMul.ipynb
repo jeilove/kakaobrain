{
 "cells": [
  {
   "cell_type": "markdown",
   "metadata": {},
   "source": [
    "# Matrix multiplication"
   ]
  },
  {
   "cell_type": "code",
   "execution_count": 1,
   "metadata": {
    "ExecuteTime": {
     "end_time": "2018-02-26T06:56:55.612815Z",
     "start_time": "2018-02-26T06:56:54.810349Z"
    }
   },
   "outputs": [
    {
     "name": "stdout",
     "output_type": "stream",
     "text": [
      "Importing Jupyter notebook from [demo_util.ipynb]\n",
      "Packages loaded.\n"
     ]
    }
   ],
   "source": [
    "import nbloader\n",
    "import tensorflow as tf\n",
    "import numpy as np\n",
    "from demo_util import gpusession\n",
    "print (\"Packages loaded.\")"
   ]
  },
  {
   "cell_type": "markdown",
   "metadata": {},
   "source": [
    "Test multiple matrix multiplications "
   ]
  },
  {
   "cell_type": "code",
   "execution_count": 2,
   "metadata": {
    "ExecuteTime": {
     "end_time": "2018-02-26T06:56:55.904044Z",
     "start_time": "2018-02-26T06:56:55.616643Z"
    },
    "scrolled": false
   },
   "outputs": [
    {
     "name": "stdout",
     "output_type": "stream",
     "text": [
      "Tensor(\"Placeholder:0\", shape=(?, 150, 10), dtype=float32)\n",
      "Tensor(\"Placeholder_1:0\", shape=(?, 10, 1), dtype=float32)\n",
      "Tensor(\"MatMul:0\", shape=(?, 150, 1), dtype=float32)\n",
      "[0] Err:1.8863e-06\n",
      "[1] Err:1.8052e-06\n",
      "[2] Err:1.4090e-06\n",
      "[3] Err:1.4230e-06\n",
      "[4] Err:2.1831e-06\n"
     ]
    }
   ],
   "source": [
    "# Make graph\n",
    "tf_A = tf.placeholder(\"float\", [None, 150, 10])\n",
    "tf_b = tf.placeholder(\"float\", [None, 10, 1])\n",
    "tf_allMuls = tf.matmul(tf_A, tf_b)\n",
    "print tf_A\n",
    "print tf_b\n",
    "print tf_allMuls\n",
    "\n",
    "# Set data\n",
    "nData = 5\n",
    "A = np.random.rand(nData,150,10)\n",
    "b = np.random.rand(nData,10,1)\n",
    "sess = gpusession()\n",
    "tf_res = sess.run(tf_allMuls,feed_dict={tf_A:A,tf_b:b})\n",
    "\n",
    "# Matrix multiplication using numpy\n",
    "np_res = np.zeros((nData,150,1))\n",
    "for i in range(nData):\n",
    "    curr_A = np.reshape(A[i,:,:],newshape=(150,10))\n",
    "    curr_b = np.reshape(b[i,:,:],newshape=(10,1)) \n",
    "    np_res[i,:] = np.matmul(curr_A,curr_b)\n",
    "\n",
    "# Check results\n",
    "for i in range(nData):\n",
    "    err = tf_res[i,:,:].squeeze()-np_res[i,:,:].squeeze()\n",
    "    err_norm = np.linalg.norm(err)\n",
    "    print (\"[%d] Err:%.4e\"%(i,err_norm))"
   ]
  },
  {
   "cell_type": "markdown",
   "metadata": {},
   "source": [
    "Test reshape"
   ]
  },
  {
   "cell_type": "code",
   "execution_count": 20,
   "metadata": {
    "ExecuteTime": {
     "end_time": "2018-02-26T07:04:55.525880Z",
     "start_time": "2018-02-26T07:04:55.503753Z"
    },
    "scrolled": false
   },
   "outputs": [
    {
     "name": "stdout",
     "output_type": "stream",
     "text": [
      "\n",
      "[01/10]\n",
      " curr_a:\n",
      "[0.65396345 0.52695408 0.80762737 0.16353129 0.10547146 0.83903114]\n",
      " curr_a_rsh:\n",
      "[[0.65396345 0.52695408]\n",
      " [0.80762737 0.16353129]\n",
      " [0.10547146 0.83903114]]\n",
      " tf_a_rsh:\n",
      "[[0.65396345 0.52695405]\n",
      " [0.8076274  0.16353129]\n",
      " [0.10547145 0.83903116]]\n",
      "  'curr_a_rsh' and 'tf_a_rsh' should be the same.\n",
      "\n",
      "[02/10]\n",
      " curr_a:\n",
      "[0.27385714 0.72636872 0.2105374  0.68067634 0.92318967 0.67967588]\n",
      " curr_a_rsh:\n",
      "[[0.27385714 0.72636872]\n",
      " [0.2105374  0.68067634]\n",
      " [0.92318967 0.67967588]]\n",
      " tf_a_rsh:\n",
      "[[0.27385715 0.7263687 ]\n",
      " [0.2105374  0.68067634]\n",
      " [0.9231897  0.6796759 ]]\n",
      "  'curr_a_rsh' and 'tf_a_rsh' should be the same.\n",
      "\n",
      "[03/10]\n",
      " curr_a:\n",
      "[0.35259091 0.15526107 0.56665441 0.96776311 0.03615346 0.81053072]\n",
      " curr_a_rsh:\n",
      "[[0.35259091 0.15526107]\n",
      " [0.56665441 0.96776311]\n",
      " [0.03615346 0.81053072]]\n",
      " tf_a_rsh:\n",
      "[[0.35259092 0.15526107]\n",
      " [0.5666544  0.9677631 ]\n",
      " [0.03615345 0.8105307 ]]\n",
      "  'curr_a_rsh' and 'tf_a_rsh' should be the same.\n",
      "\n",
      "[04/10]\n",
      " curr_a:\n",
      "[0.75884189 0.26300952 0.72216289 0.87765113 0.31510448 0.16998555]\n",
      " curr_a_rsh:\n",
      "[[0.75884189 0.26300952]\n",
      " [0.72216289 0.87765113]\n",
      " [0.31510448 0.16998555]]\n",
      " tf_a_rsh:\n",
      "[[0.7588419  0.26300952]\n",
      " [0.7221629  0.87765115]\n",
      " [0.31510448 0.16998555]]\n",
      "  'curr_a_rsh' and 'tf_a_rsh' should be the same.\n",
      "\n",
      "[05/10]\n",
      " curr_a:\n",
      "[0.53000141 0.98789499 0.51150693 0.4489549  0.90732306 0.54058765]\n",
      " curr_a_rsh:\n",
      "[[0.53000141 0.98789499]\n",
      " [0.51150693 0.4489549 ]\n",
      " [0.90732306 0.54058765]]\n",
      " tf_a_rsh:\n",
      "[[0.5300014  0.987895  ]\n",
      " [0.5115069  0.4489549 ]\n",
      " [0.90732306 0.54058766]]\n",
      "  'curr_a_rsh' and 'tf_a_rsh' should be the same.\n",
      "\n",
      "[06/10]\n",
      " curr_a:\n",
      "[0.69375834 0.60200847 0.94145    0.74796748 0.54859519 0.13782429]\n",
      " curr_a_rsh:\n",
      "[[0.69375834 0.60200847]\n",
      " [0.94145    0.74796748]\n",
      " [0.54859519 0.13782429]]\n",
      " tf_a_rsh:\n",
      "[[0.6937583  0.60200846]\n",
      " [0.94145    0.7479675 ]\n",
      " [0.5485952  0.1378243 ]]\n",
      "  'curr_a_rsh' and 'tf_a_rsh' should be the same.\n",
      "\n",
      "[07/10]\n",
      " curr_a:\n",
      "[0.59619531 0.74076556 0.07548908 0.94517573 0.96388359 0.76062792]\n",
      " curr_a_rsh:\n",
      "[[0.59619531 0.74076556]\n",
      " [0.07548908 0.94517573]\n",
      " [0.96388359 0.76062792]]\n",
      " tf_a_rsh:\n",
      "[[0.5961953  0.7407656 ]\n",
      " [0.07548908 0.9451757 ]\n",
      " [0.9638836  0.7606279 ]]\n",
      "  'curr_a_rsh' and 'tf_a_rsh' should be the same.\n",
      "\n",
      "[08/10]\n",
      " curr_a:\n",
      "[0.74742737 0.0735539  0.25318887 0.81618312 0.38405091 0.39920066]\n",
      " curr_a_rsh:\n",
      "[[0.74742737 0.0735539 ]\n",
      " [0.25318887 0.81618312]\n",
      " [0.38405091 0.39920066]]\n",
      " tf_a_rsh:\n",
      "[[0.74742734 0.0735539 ]\n",
      " [0.25318888 0.8161831 ]\n",
      " [0.3840509  0.39920065]]\n",
      "  'curr_a_rsh' and 'tf_a_rsh' should be the same.\n",
      "\n",
      "[09/10]\n",
      " curr_a:\n",
      "[0.90465173 0.88960138 0.54655609 0.14638377 0.16397636 0.65290147]\n",
      " curr_a_rsh:\n",
      "[[0.90465173 0.88960138]\n",
      " [0.54655609 0.14638377]\n",
      " [0.16397636 0.65290147]]\n",
      " tf_a_rsh:\n",
      "[[0.9046517  0.88960135]\n",
      " [0.5465561  0.14638378]\n",
      " [0.16397637 0.6529015 ]]\n",
      "  'curr_a_rsh' and 'tf_a_rsh' should be the same.\n",
      "\n",
      "[10/10]\n",
      " curr_a:\n",
      "[0.42272775 0.99550818 0.42861207 0.37365459 0.41933243 0.24791302]\n",
      " curr_a_rsh:\n",
      "[[0.42272775 0.99550818]\n",
      " [0.42861207 0.37365459]\n",
      " [0.41933243 0.24791302]]\n",
      " tf_a_rsh:\n",
      "[[0.42272776 0.9955082 ]\n",
      " [0.42861205 0.37365457]\n",
      " [0.41933244 0.24791302]]\n",
      "  'curr_a_rsh' and 'tf_a_rsh' should be the same.\n"
     ]
    }
   ],
   "source": [
    "# Make graph\n",
    "tf_a = tf.placeholder(\"float\", [None,6])\n",
    "tf_a_rsh = tf.reshape(tf_a,shape=[-1,3,2])\n",
    "# Generate data\n",
    "nData = 10\n",
    "np_a = np.random.rand(nData,6)\n",
    "sess = gpusession()\n",
    "np_a_rsh = sess.run(tf_a_rsh,feed_dict={tf_a:np_a})\n",
    "# Check data\n",
    "for i in range(nData):\n",
    "    curr_a = np_a[i,:]\n",
    "    print ('\\n[%02d/%d]'%(i+1,nData))\n",
    "    print (' curr_a:\\n%s' % (curr_a))\n",
    "    print (' curr_a_rsh:\\n%s' % (np.reshape(curr_a,[3,2])))\n",
    "    print (' tf_a_rsh:\\n%s' % (np_a_rsh[i,:,:]))\n",
    "    print (\"  'curr_a_rsh' and 'tf_a_rsh' should be the same.\")"
   ]
  },
  {
   "cell_type": "code",
   "execution_count": null,
   "metadata": {},
   "outputs": [],
   "source": []
  },
  {
   "cell_type": "code",
   "execution_count": null,
   "metadata": {},
   "outputs": [],
   "source": []
  }
 ],
 "metadata": {
  "kernelspec": {
   "display_name": "Python 2",
   "language": "python",
   "name": "python2"
  },
  "language_info": {
   "codemirror_mode": {
    "name": "ipython",
    "version": 2
   },
   "file_extension": ".py",
   "mimetype": "text/x-python",
   "name": "python",
   "nbconvert_exporter": "python",
   "pygments_lexer": "ipython2",
   "version": "2.7.12"
  }
 },
 "nbformat": 4,
 "nbformat_minor": 2
}
